{
  "cells": [
    {
      "cell_type": "code",
      "execution_count": 3,
      "metadata": {
        "colab": {
          "base_uri": "https://localhost:8080/"
        },
        "collapsed": true,
        "id": "ETgd6scyFhYz",
        "outputId": "cf31d2f2-63c2-4d82-a53d-746e788d7746"
      },
      "outputs": [
        {
          "name": "stdout",
          "output_type": "stream",
          "text": [
            "Requirement already satisfied: gensim in c:\\users\\hp world\\appdata\\local\\programs\\python\\python312\\lib\\site-packages (4.3.3)\n",
            "Requirement already satisfied: numpy<2.0,>=1.18.5 in c:\\users\\hp world\\appdata\\local\\programs\\python\\python312\\lib\\site-packages (from gensim) (1.26.4)\n",
            "Requirement already satisfied: scipy<1.14.0,>=1.7.0 in c:\\users\\hp world\\appdata\\local\\programs\\python\\python312\\lib\\site-packages (from gensim) (1.13.1)\n",
            "Requirement already satisfied: smart-open>=1.8.1 in c:\\users\\hp world\\appdata\\local\\programs\\python\\python312\\lib\\site-packages (from gensim) (7.1.0)\n",
            "Requirement already satisfied: wrapt in c:\\users\\hp world\\appdata\\local\\programs\\python\\python312\\lib\\site-packages (from smart-open>=1.8.1->gensim) (1.16.0)\n"
          ]
        },
        {
          "name": "stderr",
          "output_type": "stream",
          "text": [
            "\n",
            "[notice] A new release of pip is available: 24.2 -> 25.0\n",
            "[notice] To update, run: python.exe -m pip install --upgrade pip\n"
          ]
        },
        {
          "name": "stdout",
          "output_type": "stream",
          "text": [
            "Requirement already satisfied: transformers in c:\\users\\hp world\\appdata\\local\\programs\\python\\python312\\lib\\site-packages (4.48.1)\n",
            "Requirement already satisfied: filelock in c:\\users\\hp world\\appdata\\local\\programs\\python\\python312\\lib\\site-packages (from transformers) (3.15.4)\n",
            "Requirement already satisfied: huggingface-hub<1.0,>=0.24.0 in c:\\users\\hp world\\appdata\\local\\programs\\python\\python312\\lib\\site-packages (from transformers) (0.27.1)\n",
            "Requirement already satisfied: numpy>=1.17 in c:\\users\\hp world\\appdata\\local\\programs\\python\\python312\\lib\\site-packages (from transformers) (1.26.4)\n",
            "Requirement already satisfied: packaging>=20.0 in c:\\users\\hp world\\appdata\\roaming\\python\\python312\\site-packages (from transformers) (24.1)\n",
            "Requirement already satisfied: pyyaml>=5.1 in c:\\users\\hp world\\appdata\\local\\programs\\python\\python312\\lib\\site-packages (from transformers) (6.0.2)\n",
            "Requirement already satisfied: regex!=2019.12.17 in c:\\users\\hp world\\appdata\\local\\programs\\python\\python312\\lib\\site-packages (from transformers) (2024.11.6)\n",
            "Requirement already satisfied: requests in c:\\users\\hp world\\appdata\\local\\programs\\python\\python312\\lib\\site-packages (from transformers) (2.32.3)\n",
            "Requirement already satisfied: tokenizers<0.22,>=0.21 in c:\\users\\hp world\\appdata\\local\\programs\\python\\python312\\lib\\site-packages (from transformers) (0.21.0)\n",
            "Requirement already satisfied: safetensors>=0.4.1 in c:\\users\\hp world\\appdata\\local\\programs\\python\\python312\\lib\\site-packages (from transformers) (0.5.2)\n",
            "Requirement already satisfied: tqdm>=4.27 in c:\\users\\hp world\\appdata\\local\\programs\\python\\python312\\lib\\site-packages (from transformers) (4.67.1)\n",
            "Requirement already satisfied: fsspec>=2023.5.0 in c:\\users\\hp world\\appdata\\local\\programs\\python\\python312\\lib\\site-packages (from huggingface-hub<1.0,>=0.24.0->transformers) (2024.6.1)\n",
            "Requirement already satisfied: typing-extensions>=3.7.4.3 in c:\\users\\hp world\\appdata\\local\\programs\\python\\python312\\lib\\site-packages (from huggingface-hub<1.0,>=0.24.0->transformers) (4.12.2)\n",
            "Requirement already satisfied: colorama in c:\\users\\hp world\\appdata\\roaming\\python\\python312\\site-packages (from tqdm>=4.27->transformers) (0.4.6)\n",
            "Requirement already satisfied: charset-normalizer<4,>=2 in c:\\users\\hp world\\appdata\\local\\programs\\python\\python312\\lib\\site-packages (from requests->transformers) (3.3.2)\n",
            "Requirement already satisfied: idna<4,>=2.5 in c:\\users\\hp world\\appdata\\local\\programs\\python\\python312\\lib\\site-packages (from requests->transformers) (3.10)\n",
            "Requirement already satisfied: urllib3<3,>=1.21.1 in c:\\users\\hp world\\appdata\\local\\programs\\python\\python312\\lib\\site-packages (from requests->transformers) (2.2.3)\n",
            "Requirement already satisfied: certifi>=2017.4.17 in c:\\users\\hp world\\appdata\\local\\programs\\python\\python312\\lib\\site-packages (from requests->transformers) (2024.8.30)\n"
          ]
        },
        {
          "name": "stderr",
          "output_type": "stream",
          "text": [
            "\n",
            "[notice] A new release of pip is available: 24.2 -> 25.0\n",
            "[notice] To update, run: python.exe -m pip install --upgrade pip\n"
          ]
        },
        {
          "name": "stdout",
          "output_type": "stream",
          "text": [
            "Requirement already satisfied: faiss-cpu in c:\\users\\hp world\\appdata\\local\\programs\\python\\python312\\lib\\site-packages (1.9.0.post1)\n",
            "Requirement already satisfied: numpy<3.0,>=1.25.0 in c:\\users\\hp world\\appdata\\local\\programs\\python\\python312\\lib\\site-packages (from faiss-cpu) (1.26.4)\n",
            "Requirement already satisfied: packaging in c:\\users\\hp world\\appdata\\roaming\\python\\python312\\site-packages (from faiss-cpu) (24.1)\n"
          ]
        },
        {
          "name": "stderr",
          "output_type": "stream",
          "text": [
            "\n",
            "[notice] A new release of pip is available: 24.2 -> 25.0\n",
            "[notice] To update, run: python.exe -m pip install --upgrade pip\n"
          ]
        }
      ],
      "source": [
        "!pip install gensim\n",
        "!pip install transformers\n",
        "!pip install faiss-cpu"
      ]
    },
    {
      "cell_type": "code",
      "execution_count": 4,
      "metadata": {
        "id": "IZRlaLCzFi0p"
      },
      "outputs": [],
      "source": [
        "import numpy as np\n",
        "import gensim.downloader as api\n",
        "from gensim.models import keyedvectors\n",
        "from transformers import AutoTokenizer, AutoModel\n",
        "import torch\n",
        "import faiss"
      ]
    },
    {
      "cell_type": "code",
      "execution_count": 5,
      "metadata": {
        "id": "5yiGJZQ3Fi3a"
      },
      "outputs": [],
      "source": [
        "from sklearn.metrics.pairwise import cosine_similarity"
      ]
    },
    {
      "cell_type": "code",
      "execution_count": 6,
      "metadata": {
        "colab": {
          "base_uri": "https://localhost:8080/"
        },
        "id": "ckYBmwKlFi53",
        "outputId": "5b5c6b69-a278-4244-ccd5-1c5566c3b79a"
      },
      "outputs": [
        {
          "name": "stdout",
          "output_type": "stream",
          "text": [
            "['fasttext-wiki-news-subwords-300', 'conceptnet-numberbatch-17-06-300', 'word2vec-ruscorpora-300', 'word2vec-google-news-300', 'glove-wiki-gigaword-50', 'glove-wiki-gigaword-100', 'glove-wiki-gigaword-200', 'glove-wiki-gigaword-300', 'glove-twitter-25', 'glove-twitter-50', 'glove-twitter-100', 'glove-twitter-200', '__testing_word2vec-matrix-synopsis']\n"
          ]
        }
      ],
      "source": [
        "print(list(api.info()['models'].keys()))"
      ]
    },
    {
      "cell_type": "code",
      "execution_count": 7,
      "metadata": {
        "colab": {
          "base_uri": "https://localhost:8080/"
        },
        "id": "cwbd-eG9Fi8l",
        "outputId": "f5cdc0a6-e208-4cc6-cbce-0ce817bc36f6"
      },
      "outputs": [
        {
          "name": "stdout",
          "output_type": "stream",
          "text": [
            "[==================================================] 100.0% 128.1/128.1MB downloaded\n",
            "loaded 'glove-wiki-gigaword-100'with vector size : 100\n"
          ]
        }
      ],
      "source": [
        "model_name='glove-wiki-gigaword-100'\n",
        "word_vectors= api.load(model_name)\n",
        "print(f\"loaded '{model_name}'with vector size : {word_vectors.vector_size}\")"
      ]
    },
    {
      "cell_type": "code",
      "execution_count": 8,
      "metadata": {
        "id": "UwPA4s_tFi_F"
      },
      "outputs": [],
      "source": [
        "from numpy.linalg import norm"
      ]
    },
    {
      "cell_type": "code",
      "execution_count": 9,
      "metadata": {
        "id": "G0YY4oyfFjB0"
      },
      "outputs": [],
      "source": [
        "analogy_vector= word_vectors[\"king\"]- word_vectors[\"man\"]+ word_vectors[\"woman\"]"
      ]
    },
    {
      "cell_type": "code",
      "execution_count": 10,
      "metadata": {
        "colab": {
          "base_uri": "https://localhost:8080/"
        },
        "id": "Q8rGXOUfFjEL",
        "outputId": "f5402d02-b554-4dfa-bc96-f9a30bcc9be4"
      },
      "outputs": [
        {
          "name": "stdout",
          "output_type": "stream",
          "text": [
            "[('king', 0.8551837205886841), ('queen', 0.783441424369812), ('monarch', 0.6933802366256714), ('throne', 0.6833109855651855), ('daughter', 0.6809081435203552)]\n"
          ]
        }
      ],
      "source": [
        "result = word_vectors.most_similar(positive=[analogy_vector],topn=5)\n",
        "print(result)"
      ]
    },
    {
      "cell_type": "code",
      "execution_count": 11,
      "metadata": {
        "colab": {
          "base_uri": "https://localhost:8080/"
        },
        "id": "77AdANm1FjGu",
        "outputId": "cc8cfd1e-efcf-4ded-bfd9-48ad668f285f"
      },
      "outputs": [
        {
          "name": "stdout",
          "output_type": "stream",
          "text": [
            "Result of 'king - man + women':\n",
            "  queen: 0.7834\n",
            "  monarch: 0.6934\n",
            "  throne: 0.6833\n",
            "  daughter: 0.6809\n"
          ]
        }
      ],
      "source": [
        "result = [(word,sim) for word, sim in result if word!='king']\n",
        "print(\"Result of 'king - man + women':\")\n",
        "for word , sim in result [:5]:\n",
        "  print (f\"  {word}: {sim:.4f}\")\n"
      ]
    },
    {
      "cell_type": "code",
      "execution_count": 13,
      "metadata": {},
      "outputs": [
        {
          "name": "stdout",
          "output_type": "stream",
          "text": [
            "Collecting keras==2.11\n",
            "  Downloading keras-2.11.0-py2.py3-none-any.whl.metadata (1.4 kB)\n",
            "Downloading keras-2.11.0-py2.py3-none-any.whl (1.7 MB)\n",
            "   ---------------------------------------- 0.0/1.7 MB ? eta -:--:--\n",
            "   ------------------------------- -------- 1.3/1.7 MB 7.5 MB/s eta 0:00:01\n",
            "   ---------------------------------------- 1.7/1.7 MB 6.1 MB/s eta 0:00:00\n",
            "Installing collected packages: keras\n",
            "  Attempting uninstall: keras\n",
            "    Found existing installation: keras 3.6.0\n",
            "    Uninstalling keras-3.6.0:\n",
            "      Successfully uninstalled keras-3.6.0\n",
            "Successfully installed keras-2.11.0\n",
            "Note: you may need to restart the kernel to use updated packages.\n"
          ]
        },
        {
          "name": "stderr",
          "output_type": "stream",
          "text": [
            "ERROR: pip's dependency resolver does not currently take into account all the packages that are installed. This behaviour is the source of the following dependency conflicts.\n",
            "tensorflow-intel 2.18.0 requires keras>=3.5.0, but you have keras 2.11.0 which is incompatible.\n",
            "\n",
            "[notice] A new release of pip is available: 24.2 -> 25.0\n",
            "[notice] To update, run: python.exe -m pip install --upgrade pip\n"
          ]
        }
      ],
      "source": [
        "pip install keras==2.11\n"
      ]
    },
    {
      "cell_type": "code",
      "execution_count": 14,
      "metadata": {},
      "outputs": [
        {
          "name": "stdout",
          "output_type": "stream",
          "text": [
            "Collecting transformers==4.33.2\n",
            "  Downloading transformers-4.33.2-py3-none-any.whl.metadata (119 kB)\n",
            "Requirement already satisfied: sentence-transformers in c:\\users\\hp world\\appdata\\local\\programs\\python\\python312\\lib\\site-packages (3.4.0)\n",
            "Requirement already satisfied: filelock in c:\\users\\hp world\\appdata\\local\\programs\\python\\python312\\lib\\site-packages (from transformers==4.33.2) (3.15.4)\n",
            "Requirement already satisfied: huggingface-hub<1.0,>=0.15.1 in c:\\users\\hp world\\appdata\\local\\programs\\python\\python312\\lib\\site-packages (from transformers==4.33.2) (0.27.1)\n",
            "Requirement already satisfied: numpy>=1.17 in c:\\users\\hp world\\appdata\\local\\programs\\python\\python312\\lib\\site-packages (from transformers==4.33.2) (1.26.4)\n",
            "Requirement already satisfied: packaging>=20.0 in c:\\users\\hp world\\appdata\\roaming\\python\\python312\\site-packages (from transformers==4.33.2) (24.1)\n",
            "Requirement already satisfied: pyyaml>=5.1 in c:\\users\\hp world\\appdata\\local\\programs\\python\\python312\\lib\\site-packages (from transformers==4.33.2) (6.0.2)\n",
            "Requirement already satisfied: regex!=2019.12.17 in c:\\users\\hp world\\appdata\\local\\programs\\python\\python312\\lib\\site-packages (from transformers==4.33.2) (2024.11.6)\n",
            "Requirement already satisfied: requests in c:\\users\\hp world\\appdata\\local\\programs\\python\\python312\\lib\\site-packages (from transformers==4.33.2) (2.32.3)\n",
            "Collecting tokenizers!=0.11.3,<0.14,>=0.11.1 (from transformers==4.33.2)\n",
            "  Downloading tokenizers-0.13.3.tar.gz (314 kB)\n",
            "  Installing build dependencies: started\n",
            "  Installing build dependencies: finished with status 'done'\n",
            "  Getting requirements to build wheel: started\n",
            "  Getting requirements to build wheel: finished with status 'done'\n",
            "  Preparing metadata (pyproject.toml): started\n",
            "  Preparing metadata (pyproject.toml): finished with status 'done'\n",
            "Requirement already satisfied: safetensors>=0.3.1 in c:\\users\\hp world\\appdata\\local\\programs\\python\\python312\\lib\\site-packages (from transformers==4.33.2) (0.5.2)\n",
            "Requirement already satisfied: tqdm>=4.27 in c:\\users\\hp world\\appdata\\local\\programs\\python\\python312\\lib\\site-packages (from transformers==4.33.2) (4.67.1)\n",
            "INFO: pip is looking at multiple versions of sentence-transformers to determine which version is compatible with other requirements. This could take a while.\n",
            "Collecting sentence-transformers\n",
            "  Using cached sentence_transformers-3.4.0-py3-none-any.whl.metadata (10 kB)\n",
            "  Downloading sentence_transformers-3.3.1-py3-none-any.whl.metadata (10 kB)\n",
            "  Downloading sentence_transformers-3.3.0-py3-none-any.whl.metadata (10 kB)\n",
            "  Downloading sentence_transformers-3.2.1-py3-none-any.whl.metadata (10 kB)\n",
            "INFO: pip is still looking at multiple versions of sentence-transformers to determine which version is compatible with other requirements. This could take a while.\n",
            "  Downloading sentence_transformers-3.2.0-py3-none-any.whl.metadata (10 kB)\n",
            "  Downloading sentence_transformers-3.1.1-py3-none-any.whl.metadata (10 kB)\n",
            "INFO: This is taking longer than usual. You might need to provide the dependency resolver with stricter constraints to reduce runtime. See https://pip.pypa.io/warnings/backtracking for guidance. If you want to abort this run, press Ctrl + C.\n",
            "  Downloading sentence_transformers-3.1.0-py3-none-any.whl.metadata (23 kB)\n",
            "  Downloading sentence_transformers-3.0.1-py3-none-any.whl.metadata (10 kB)\n",
            "  Downloading sentence_transformers-3.0.0-py3-none-any.whl.metadata (10 kB)\n",
            "  Downloading sentence_transformers-2.7.0-py3-none-any.whl.metadata (11 kB)\n",
            "  Downloading sentence_transformers-2.6.1-py3-none-any.whl.metadata (11 kB)\n",
            "Requirement already satisfied: torch>=1.11.0 in c:\\users\\hp world\\appdata\\local\\programs\\python\\python312\\lib\\site-packages (from sentence-transformers) (2.3.1+cpu)\n",
            "Requirement already satisfied: scikit-learn in c:\\users\\hp world\\appdata\\local\\programs\\python\\python312\\lib\\site-packages (from sentence-transformers) (1.5.1)\n",
            "Requirement already satisfied: scipy in c:\\users\\hp world\\appdata\\local\\programs\\python\\python312\\lib\\site-packages (from sentence-transformers) (1.13.1)\n",
            "Requirement already satisfied: Pillow in c:\\users\\hp world\\appdata\\local\\programs\\python\\python312\\lib\\site-packages (from sentence-transformers) (10.4.0)\n",
            "Requirement already satisfied: fsspec>=2023.5.0 in c:\\users\\hp world\\appdata\\local\\programs\\python\\python312\\lib\\site-packages (from huggingface-hub<1.0,>=0.15.1->transformers==4.33.2) (2024.6.1)\n",
            "Requirement already satisfied: typing-extensions>=3.7.4.3 in c:\\users\\hp world\\appdata\\local\\programs\\python\\python312\\lib\\site-packages (from huggingface-hub<1.0,>=0.15.1->transformers==4.33.2) (4.12.2)\n",
            "Requirement already satisfied: sympy in c:\\users\\hp world\\appdata\\local\\programs\\python\\python312\\lib\\site-packages (from torch>=1.11.0->sentence-transformers) (1.13.2)\n",
            "Requirement already satisfied: networkx in c:\\users\\hp world\\appdata\\local\\programs\\python\\python312\\lib\\site-packages (from torch>=1.11.0->sentence-transformers) (3.3)\n",
            "Requirement already satisfied: jinja2 in c:\\users\\hp world\\appdata\\local\\programs\\python\\python312\\lib\\site-packages (from torch>=1.11.0->sentence-transformers) (3.1.4)\n",
            "Requirement already satisfied: mkl<=2021.4.0,>=2021.1.1 in c:\\users\\hp world\\appdata\\local\\programs\\python\\python312\\lib\\site-packages (from torch>=1.11.0->sentence-transformers) (2021.4.0)\n",
            "Requirement already satisfied: colorama in c:\\users\\hp world\\appdata\\roaming\\python\\python312\\site-packages (from tqdm>=4.27->transformers==4.33.2) (0.4.6)\n",
            "Requirement already satisfied: charset-normalizer<4,>=2 in c:\\users\\hp world\\appdata\\local\\programs\\python\\python312\\lib\\site-packages (from requests->transformers==4.33.2) (3.3.2)\n",
            "Requirement already satisfied: idna<4,>=2.5 in c:\\users\\hp world\\appdata\\local\\programs\\python\\python312\\lib\\site-packages (from requests->transformers==4.33.2) (3.10)\n",
            "Requirement already satisfied: urllib3<3,>=1.21.1 in c:\\users\\hp world\\appdata\\local\\programs\\python\\python312\\lib\\site-packages (from requests->transformers==4.33.2) (2.2.3)\n",
            "Requirement already satisfied: certifi>=2017.4.17 in c:\\users\\hp world\\appdata\\local\\programs\\python\\python312\\lib\\site-packages (from requests->transformers==4.33.2) (2024.8.30)\n",
            "Requirement already satisfied: joblib>=1.2.0 in c:\\users\\hp world\\appdata\\local\\programs\\python\\python312\\lib\\site-packages (from scikit-learn->sentence-transformers) (1.4.2)\n",
            "Requirement already satisfied: threadpoolctl>=3.1.0 in c:\\users\\hp world\\appdata\\local\\programs\\python\\python312\\lib\\site-packages (from scikit-learn->sentence-transformers) (3.5.0)\n",
            "Requirement already satisfied: intel-openmp==2021.* in c:\\users\\hp world\\appdata\\local\\programs\\python\\python312\\lib\\site-packages (from mkl<=2021.4.0,>=2021.1.1->torch>=1.11.0->sentence-transformers) (2021.4.0)\n",
            "Requirement already satisfied: tbb==2021.* in c:\\users\\hp world\\appdata\\local\\programs\\python\\python312\\lib\\site-packages (from mkl<=2021.4.0,>=2021.1.1->torch>=1.11.0->sentence-transformers) (2021.11.0)\n",
            "Requirement already satisfied: MarkupSafe>=2.0 in c:\\users\\hp world\\appdata\\local\\programs\\python\\python312\\lib\\site-packages (from jinja2->torch>=1.11.0->sentence-transformers) (2.1.5)\n",
            "Requirement already satisfied: mpmath<1.4,>=1.1.0 in c:\\users\\hp world\\appdata\\local\\programs\\python\\python312\\lib\\site-packages (from sympy->torch>=1.11.0->sentence-transformers) (1.3.0)\n",
            "Downloading transformers-4.33.2-py3-none-any.whl (7.6 MB)\n",
            "   ---------------------------------------- 0.0/7.6 MB ? eta -:--:--\n",
            "   ----- ---------------------------------- 1.0/7.6 MB 6.3 MB/s eta 0:00:02\n",
            "   ----- ---------------------------------- 1.0/7.6 MB 6.3 MB/s eta 0:00:02\n",
            "   ----- ---------------------------------- 1.0/7.6 MB 6.3 MB/s eta 0:00:02\n",
            "   ----- ---------------------------------- 1.0/7.6 MB 6.3 MB/s eta 0:00:02\n",
            "   ----- ---------------------------------- 1.0/7.6 MB 6.3 MB/s eta 0:00:02\n",
            "   ----- ---------------------------------- 1.0/7.6 MB 6.3 MB/s eta 0:00:02\n",
            "   --------- ------------------------------ 1.8/7.6 MB 1.1 MB/s eta 0:00:06\n",
            "   ---------------- ----------------------- 3.1/7.6 MB 1.8 MB/s eta 0:00:03\n",
            "   ---------------- ----------------------- 3.1/7.6 MB 1.8 MB/s eta 0:00:03\n",
            "   ------------------------ --------------- 4.7/7.6 MB 2.2 MB/s eta 0:00:02\n",
            "   ----------------------------------- ---- 6.8/7.6 MB 2.9 MB/s eta 0:00:01\n",
            "   ---------------------------------------- 7.6/7.6 MB 3.0 MB/s eta 0:00:00\n",
            "Downloading sentence_transformers-2.6.1-py3-none-any.whl (163 kB)\n",
            "Building wheels for collected packages: tokenizers\n",
            "  Building wheel for tokenizers (pyproject.toml): started\n",
            "  Building wheel for tokenizers (pyproject.toml): finished with status 'error'\n",
            "Failed to build tokenizers\n",
            "Note: you may need to restart the kernel to use updated packages.\n"
          ]
        },
        {
          "name": "stderr",
          "output_type": "stream",
          "text": [
            "  error: subprocess-exited-with-error\n",
            "  \n",
            "  × Building wheel for tokenizers (pyproject.toml) did not run successfully.\n",
            "  │ exit code: 1\n",
            "  ╰─> [49 lines of output]\n",
            "      running bdist_wheel\n",
            "      running build\n",
            "      running build_py\n",
            "      creating build\\lib.win-amd64-cpython-312\\tokenizers\n",
            "      copying py_src\\tokenizers\\__init__.py -> build\\lib.win-amd64-cpython-312\\tokenizers\n",
            "      creating build\\lib.win-amd64-cpython-312\\tokenizers\\models\n",
            "      copying py_src\\tokenizers\\models\\__init__.py -> build\\lib.win-amd64-cpython-312\\tokenizers\\models\n",
            "      creating build\\lib.win-amd64-cpython-312\\tokenizers\\decoders\n",
            "      copying py_src\\tokenizers\\decoders\\__init__.py -> build\\lib.win-amd64-cpython-312\\tokenizers\\decoders\n",
            "      creating build\\lib.win-amd64-cpython-312\\tokenizers\\normalizers\n",
            "      copying py_src\\tokenizers\\normalizers\\__init__.py -> build\\lib.win-amd64-cpython-312\\tokenizers\\normalizers\n",
            "      creating build\\lib.win-amd64-cpython-312\\tokenizers\\pre_tokenizers\n",
            "      copying py_src\\tokenizers\\pre_tokenizers\\__init__.py -> build\\lib.win-amd64-cpython-312\\tokenizers\\pre_tokenizers\n",
            "      creating build\\lib.win-amd64-cpython-312\\tokenizers\\processors\n",
            "      copying py_src\\tokenizers\\processors\\__init__.py -> build\\lib.win-amd64-cpython-312\\tokenizers\\processors\n",
            "      creating build\\lib.win-amd64-cpython-312\\tokenizers\\trainers\n",
            "      copying py_src\\tokenizers\\trainers\\__init__.py -> build\\lib.win-amd64-cpython-312\\tokenizers\\trainers\n",
            "      creating build\\lib.win-amd64-cpython-312\\tokenizers\\implementations\n",
            "      copying py_src\\tokenizers\\implementations\\base_tokenizer.py -> build\\lib.win-amd64-cpython-312\\tokenizers\\implementations\n",
            "      copying py_src\\tokenizers\\implementations\\bert_wordpiece.py -> build\\lib.win-amd64-cpython-312\\tokenizers\\implementations\n",
            "      copying py_src\\tokenizers\\implementations\\byte_level_bpe.py -> build\\lib.win-amd64-cpython-312\\tokenizers\\implementations\n",
            "      copying py_src\\tokenizers\\implementations\\char_level_bpe.py -> build\\lib.win-amd64-cpython-312\\tokenizers\\implementations\n",
            "      copying py_src\\tokenizers\\implementations\\sentencepiece_bpe.py -> build\\lib.win-amd64-cpython-312\\tokenizers\\implementations\n",
            "      copying py_src\\tokenizers\\implementations\\sentencepiece_unigram.py -> build\\lib.win-amd64-cpython-312\\tokenizers\\implementations\n",
            "      copying py_src\\tokenizers\\implementations\\__init__.py -> build\\lib.win-amd64-cpython-312\\tokenizers\\implementations\n",
            "      creating build\\lib.win-amd64-cpython-312\\tokenizers\\tools\n",
            "      copying py_src\\tokenizers\\tools\\visualizer.py -> build\\lib.win-amd64-cpython-312\\tokenizers\\tools\n",
            "      copying py_src\\tokenizers\\tools\\__init__.py -> build\\lib.win-amd64-cpython-312\\tokenizers\\tools\n",
            "      copying py_src\\tokenizers\\__init__.pyi -> build\\lib.win-amd64-cpython-312\\tokenizers\n",
            "      copying py_src\\tokenizers\\models\\__init__.pyi -> build\\lib.win-amd64-cpython-312\\tokenizers\\models\n",
            "      copying py_src\\tokenizers\\decoders\\__init__.pyi -> build\\lib.win-amd64-cpython-312\\tokenizers\\decoders\n",
            "      copying py_src\\tokenizers\\normalizers\\__init__.pyi -> build\\lib.win-amd64-cpython-312\\tokenizers\\normalizers\n",
            "      copying py_src\\tokenizers\\pre_tokenizers\\__init__.pyi -> build\\lib.win-amd64-cpython-312\\tokenizers\\pre_tokenizers\n",
            "      copying py_src\\tokenizers\\processors\\__init__.pyi -> build\\lib.win-amd64-cpython-312\\tokenizers\\processors\n",
            "      copying py_src\\tokenizers\\trainers\\__init__.pyi -> build\\lib.win-amd64-cpython-312\\tokenizers\\trainers\n",
            "      copying py_src\\tokenizers\\tools\\visualizer-styles.css -> build\\lib.win-amd64-cpython-312\\tokenizers\\tools\n",
            "      running build_ext\n",
            "      running build_rust\n",
            "      error: can't find Rust compiler\n",
            "      \n",
            "      If you are using an outdated pip version, it is possible a prebuilt wheel is available for this package but pip is not able to install from it. Installing from the wheel would avoid the need for a Rust compiler.\n",
            "      \n",
            "      To update pip, run:\n",
            "      \n",
            "          pip install --upgrade pip\n",
            "      \n",
            "      and then retry package installation.\n",
            "      \n",
            "      If you did intend to build this package from source, try installing a Rust compiler from your system package manager and ensure it is on the PATH during installation. Alternatively, rustup (available at https://rustup.rs) is the recommended way to download and update the Rust compiler toolchain.\n",
            "      [end of output]\n",
            "  \n",
            "  note: This error originates from a subprocess, and is likely not a problem with pip.\n",
            "  ERROR: Failed building wheel for tokenizers\n",
            "\n",
            "[notice] A new release of pip is available: 24.2 -> 25.0\n",
            "[notice] To update, run: python.exe -m pip install --upgrade pip\n",
            "ERROR: ERROR: Failed to build installable wheels for some pyproject.toml based projects (tokenizers)\n"
          ]
        }
      ],
      "source": [
        "pip install --upgrade transformers==4.33.2 sentence-transformers\n"
      ]
    },
    {
      "cell_type": "code",
      "execution_count": 18,
      "metadata": {
        "colab": {
          "base_uri": "https://localhost:8080/"
        },
        "collapsed": true,
        "id": "s2YlNtrfFjJO",
        "outputId": "b9dc42f4-9996-4a6c-ab28-e1c35ace678a"
      },
      "outputs": [
        {
          "name": "stdout",
          "output_type": "stream",
          "text": [
            "Collecting tf-keras\n",
            "  Downloading tf_keras-2.18.0-py3-none-any.whl.metadata (1.6 kB)\n",
            "Requirement already satisfied: tensorflow<2.19,>=2.18 in c:\\users\\hp world\\appdata\\local\\programs\\python\\python312\\lib\\site-packages (from tf-keras) (2.18.0)\n",
            "Requirement already satisfied: tensorflow-intel==2.18.0 in c:\\users\\hp world\\appdata\\local\\programs\\python\\python312\\lib\\site-packages (from tensorflow<2.19,>=2.18->tf-keras) (2.18.0)\n",
            "Requirement already satisfied: absl-py>=1.0.0 in c:\\users\\hp world\\appdata\\local\\programs\\python\\python312\\lib\\site-packages (from tensorflow-intel==2.18.0->tensorflow<2.19,>=2.18->tf-keras) (2.1.0)\n",
            "Requirement already satisfied: astunparse>=1.6.0 in c:\\users\\hp world\\appdata\\local\\programs\\python\\python312\\lib\\site-packages (from tensorflow-intel==2.18.0->tensorflow<2.19,>=2.18->tf-keras) (1.6.3)\n",
            "Requirement already satisfied: flatbuffers>=24.3.25 in c:\\users\\hp world\\appdata\\local\\programs\\python\\python312\\lib\\site-packages (from tensorflow-intel==2.18.0->tensorflow<2.19,>=2.18->tf-keras) (24.3.25)\n",
            "Requirement already satisfied: gast!=0.5.0,!=0.5.1,!=0.5.2,>=0.2.1 in c:\\users\\hp world\\appdata\\local\\programs\\python\\python312\\lib\\site-packages (from tensorflow-intel==2.18.0->tensorflow<2.19,>=2.18->tf-keras) (0.6.0)\n",
            "Requirement already satisfied: google-pasta>=0.1.1 in c:\\users\\hp world\\appdata\\local\\programs\\python\\python312\\lib\\site-packages (from tensorflow-intel==2.18.0->tensorflow<2.19,>=2.18->tf-keras) (0.2.0)\n",
            "Requirement already satisfied: libclang>=13.0.0 in c:\\users\\hp world\\appdata\\local\\programs\\python\\python312\\lib\\site-packages (from tensorflow-intel==2.18.0->tensorflow<2.19,>=2.18->tf-keras) (18.1.1)\n",
            "Requirement already satisfied: opt-einsum>=2.3.2 in c:\\users\\hp world\\appdata\\local\\programs\\python\\python312\\lib\\site-packages (from tensorflow-intel==2.18.0->tensorflow<2.19,>=2.18->tf-keras) (3.4.0)\n",
            "Requirement already satisfied: packaging in c:\\users\\hp world\\appdata\\roaming\\python\\python312\\site-packages (from tensorflow-intel==2.18.0->tensorflow<2.19,>=2.18->tf-keras) (24.1)\n",
            "Requirement already satisfied: protobuf!=4.21.0,!=4.21.1,!=4.21.2,!=4.21.3,!=4.21.4,!=4.21.5,<6.0.0dev,>=3.20.3 in c:\\users\\hp world\\appdata\\local\\programs\\python\\python312\\lib\\site-packages (from tensorflow-intel==2.18.0->tensorflow<2.19,>=2.18->tf-keras) (5.28.3)\n",
            "Requirement already satisfied: requests<3,>=2.21.0 in c:\\users\\hp world\\appdata\\local\\programs\\python\\python312\\lib\\site-packages (from tensorflow-intel==2.18.0->tensorflow<2.19,>=2.18->tf-keras) (2.32.3)\n",
            "Requirement already satisfied: setuptools in c:\\users\\hp world\\appdata\\local\\programs\\python\\python312\\lib\\site-packages (from tensorflow-intel==2.18.0->tensorflow<2.19,>=2.18->tf-keras) (72.1.0)\n",
            "Requirement already satisfied: six>=1.12.0 in c:\\users\\hp world\\appdata\\roaming\\python\\python312\\site-packages (from tensorflow-intel==2.18.0->tensorflow<2.19,>=2.18->tf-keras) (1.16.0)\n",
            "Requirement already satisfied: termcolor>=1.1.0 in c:\\users\\hp world\\appdata\\local\\programs\\python\\python312\\lib\\site-packages (from tensorflow-intel==2.18.0->tensorflow<2.19,>=2.18->tf-keras) (2.5.0)\n",
            "Requirement already satisfied: typing-extensions>=3.6.6 in c:\\users\\hp world\\appdata\\local\\programs\\python\\python312\\lib\\site-packages (from tensorflow-intel==2.18.0->tensorflow<2.19,>=2.18->tf-keras) (4.12.2)\n",
            "Requirement already satisfied: wrapt>=1.11.0 in c:\\users\\hp world\\appdata\\local\\programs\\python\\python312\\lib\\site-packages (from tensorflow-intel==2.18.0->tensorflow<2.19,>=2.18->tf-keras) (1.16.0)\n",
            "Requirement already satisfied: grpcio<2.0,>=1.24.3 in c:\\users\\hp world\\appdata\\local\\programs\\python\\python312\\lib\\site-packages (from tensorflow-intel==2.18.0->tensorflow<2.19,>=2.18->tf-keras) (1.67.0)\n",
            "Requirement already satisfied: tensorboard<2.19,>=2.18 in c:\\users\\hp world\\appdata\\local\\programs\\python\\python312\\lib\\site-packages (from tensorflow-intel==2.18.0->tensorflow<2.19,>=2.18->tf-keras) (2.18.0)\n",
            "Collecting keras>=3.5.0 (from tensorflow-intel==2.18.0->tensorflow<2.19,>=2.18->tf-keras)\n",
            "  Downloading keras-3.8.0-py3-none-any.whl.metadata (5.8 kB)\n",
            "Requirement already satisfied: numpy<2.1.0,>=1.26.0 in c:\\users\\hp world\\appdata\\local\\programs\\python\\python312\\lib\\site-packages (from tensorflow-intel==2.18.0->tensorflow<2.19,>=2.18->tf-keras) (1.26.4)\n",
            "Requirement already satisfied: h5py>=3.11.0 in c:\\users\\hp world\\appdata\\local\\programs\\python\\python312\\lib\\site-packages (from tensorflow-intel==2.18.0->tensorflow<2.19,>=2.18->tf-keras) (3.12.1)\n",
            "Requirement already satisfied: ml-dtypes<0.5.0,>=0.4.0 in c:\\users\\hp world\\appdata\\local\\programs\\python\\python312\\lib\\site-packages (from tensorflow-intel==2.18.0->tensorflow<2.19,>=2.18->tf-keras) (0.4.1)\n",
            "Requirement already satisfied: wheel<1.0,>=0.23.0 in c:\\users\\hp world\\appdata\\local\\programs\\python\\python312\\lib\\site-packages (from astunparse>=1.6.0->tensorflow-intel==2.18.0->tensorflow<2.19,>=2.18->tf-keras) (0.44.0)\n",
            "Requirement already satisfied: rich in c:\\users\\hp world\\appdata\\local\\programs\\python\\python312\\lib\\site-packages (from keras>=3.5.0->tensorflow-intel==2.18.0->tensorflow<2.19,>=2.18->tf-keras) (13.9.3)\n",
            "Requirement already satisfied: namex in c:\\users\\hp world\\appdata\\local\\programs\\python\\python312\\lib\\site-packages (from keras>=3.5.0->tensorflow-intel==2.18.0->tensorflow<2.19,>=2.18->tf-keras) (0.0.8)\n",
            "Requirement already satisfied: optree in c:\\users\\hp world\\appdata\\local\\programs\\python\\python312\\lib\\site-packages (from keras>=3.5.0->tensorflow-intel==2.18.0->tensorflow<2.19,>=2.18->tf-keras) (0.13.0)\n",
            "Requirement already satisfied: charset-normalizer<4,>=2 in c:\\users\\hp world\\appdata\\local\\programs\\python\\python312\\lib\\site-packages (from requests<3,>=2.21.0->tensorflow-intel==2.18.0->tensorflow<2.19,>=2.18->tf-keras) (3.3.2)\n",
            "Requirement already satisfied: idna<4,>=2.5 in c:\\users\\hp world\\appdata\\local\\programs\\python\\python312\\lib\\site-packages (from requests<3,>=2.21.0->tensorflow-intel==2.18.0->tensorflow<2.19,>=2.18->tf-keras) (3.10)\n",
            "Requirement already satisfied: urllib3<3,>=1.21.1 in c:\\users\\hp world\\appdata\\local\\programs\\python\\python312\\lib\\site-packages (from requests<3,>=2.21.0->tensorflow-intel==2.18.0->tensorflow<2.19,>=2.18->tf-keras) (2.2.3)\n",
            "Requirement already satisfied: certifi>=2017.4.17 in c:\\users\\hp world\\appdata\\local\\programs\\python\\python312\\lib\\site-packages (from requests<3,>=2.21.0->tensorflow-intel==2.18.0->tensorflow<2.19,>=2.18->tf-keras) (2024.8.30)\n",
            "Requirement already satisfied: markdown>=2.6.8 in c:\\users\\hp world\\appdata\\local\\programs\\python\\python312\\lib\\site-packages (from tensorboard<2.19,>=2.18->tensorflow-intel==2.18.0->tensorflow<2.19,>=2.18->tf-keras) (3.7)\n",
            "Requirement already satisfied: tensorboard-data-server<0.8.0,>=0.7.0 in c:\\users\\hp world\\appdata\\local\\programs\\python\\python312\\lib\\site-packages (from tensorboard<2.19,>=2.18->tensorflow-intel==2.18.0->tensorflow<2.19,>=2.18->tf-keras) (0.7.2)\n",
            "Requirement already satisfied: werkzeug>=1.0.1 in c:\\users\\hp world\\appdata\\local\\programs\\python\\python312\\lib\\site-packages (from tensorboard<2.19,>=2.18->tensorflow-intel==2.18.0->tensorflow<2.19,>=2.18->tf-keras) (3.0.6)\n",
            "Requirement already satisfied: MarkupSafe>=2.1.1 in c:\\users\\hp world\\appdata\\local\\programs\\python\\python312\\lib\\site-packages (from werkzeug>=1.0.1->tensorboard<2.19,>=2.18->tensorflow-intel==2.18.0->tensorflow<2.19,>=2.18->tf-keras) (2.1.5)\n",
            "Requirement already satisfied: markdown-it-py>=2.2.0 in c:\\users\\hp world\\appdata\\local\\programs\\python\\python312\\lib\\site-packages (from rich->keras>=3.5.0->tensorflow-intel==2.18.0->tensorflow<2.19,>=2.18->tf-keras) (3.0.0)\n",
            "Requirement already satisfied: pygments<3.0.0,>=2.13.0 in c:\\users\\hp world\\appdata\\roaming\\python\\python312\\site-packages (from rich->keras>=3.5.0->tensorflow-intel==2.18.0->tensorflow<2.19,>=2.18->tf-keras) (2.18.0)\n",
            "Requirement already satisfied: mdurl~=0.1 in c:\\users\\hp world\\appdata\\local\\programs\\python\\python312\\lib\\site-packages (from markdown-it-py>=2.2.0->rich->keras>=3.5.0->tensorflow-intel==2.18.0->tensorflow<2.19,>=2.18->tf-keras) (0.1.2)\n",
            "Downloading tf_keras-2.18.0-py3-none-any.whl (1.7 MB)\n",
            "   ---------------------------------------- 0.0/1.7 MB ? eta -:--:--\n",
            "   ------------------------------------ --- 1.6/1.7 MB 10.5 MB/s eta 0:00:01\n",
            "   ---------------------------------------- 1.7/1.7 MB 7.2 MB/s eta 0:00:00\n",
            "Downloading keras-3.8.0-py3-none-any.whl (1.3 MB)\n",
            "   ---------------------------------------- 0.0/1.3 MB ? eta -:--:--\n",
            "   ---------------------------------------- 1.3/1.3 MB 8.3 MB/s eta 0:00:00\n",
            "Installing collected packages: keras, tf-keras\n",
            "  Attempting uninstall: keras\n",
            "    Found existing installation: keras 2.11.0\n",
            "    Uninstalling keras-2.11.0:\n",
            "      Successfully uninstalled keras-2.11.0\n",
            "Successfully installed keras-3.8.0 tf-keras-2.18.0\n"
          ]
        },
        {
          "name": "stderr",
          "output_type": "stream",
          "text": [
            "\n",
            "[notice] A new release of pip is available: 24.2 -> 25.0\n",
            "[notice] To update, run: python.exe -m pip install --upgrade pip\n"
          ]
        },
        {
          "name": "stdout",
          "output_type": "stream",
          "text": [
            "WARNING:tensorflow:From c:\\Users\\HP World\\AppData\\Local\\Programs\\Python\\Python312\\Lib\\site-packages\\tf_keras\\src\\losses.py:2976: The name tf.losses.sparse_softmax_cross_entropy is deprecated. Please use tf.compat.v1.losses.sparse_softmax_cross_entropy instead.\n",
            "\n"
          ]
        },
        {
          "name": "stderr",
          "output_type": "stream",
          "text": [
            "c:\\Users\\HP World\\AppData\\Local\\Programs\\Python\\Python312\\Lib\\site-packages\\huggingface_hub\\file_download.py:140: UserWarning: `huggingface_hub` cache-system uses symlinks by default to efficiently store duplicated files but your machine does not support them in C:\\Users\\HP World\\.cache\\huggingface\\hub\\models--sentence-transformers--all-MiniLM-L6-v2. Caching files will still work but in a degraded version that might require more space on your disk. This warning can be disabled by setting the `HF_HUB_DISABLE_SYMLINKS_WARNING` environment variable. For more details, see https://huggingface.co/docs/huggingface_hub/how-to-cache#limitations.\n",
            "To support symlinks on Windows, you either need to activate Developer Mode or to run Python as an administrator. In order to activate developer mode, see this article: https://docs.microsoft.com/en-us/windows/apps/get-started/enable-your-device-for-development\n",
            "  warnings.warn(message)\n"
          ]
        }
      ],
      "source": [
        "!pip install tf-keras\n",
        "\n",
        "from sentence_transformers import SentenceTransformer\n",
        "sentence_model = SentenceTransformer('sentence-transformers/all-MiniLM-L6-v2')"
      ]
    },
    {
      "cell_type": "code",
      "execution_count": 19,
      "metadata": {
        "id": "BqEqHM3NFjLw"
      },
      "outputs": [],
      "source": [
        "sentences= [\n",
        "    \"This is a sentence about machine learning. \",\n",
        "    \"Machine learning facinating\",\n",
        "    \"I love Deep learning\",\n",
        "    \"Artificial intelligence is the new electricity\"\n",
        "]"
      ]
    },
    {
      "cell_type": "code",
      "execution_count": 20,
      "metadata": {
        "colab": {
          "base_uri": "https://localhost:8080/"
        },
        "id": "UgQOeF3OFjPL",
        "outputId": "6fec6d98-dfbc-43bf-8105-4f630ba37d65"
      },
      "outputs": [
        {
          "name": "stdout",
          "output_type": "stream",
          "text": [
            "Sentence Embeddings: (4, 384)\n",
            "Cosine Similarity Metrics: [[0.9999999  0.61734986 0.34983397 0.4479704 ]\n",
            " [0.61734986 0.99999976 0.45675236 0.3646242 ]\n",
            " [0.34983397 0.45675236 1.         0.34180963]\n",
            " [0.4479704  0.3646242  0.34180963 1.        ]]\n",
            "Cosine Similarity Matrix (float 16): \n",
            " [[1.         0.6173444  0.34983448 0.44794493]\n",
            " [0.6173444  1.         0.4567485  0.36460408]\n",
            " [0.34983448 0.4567485  1.         0.341832  ]\n",
            " [0.44794493 0.36460408 0.341832   1.        ]]\n"
          ]
        }
      ],
      "source": [
        "sentence_embeddings = sentence_model.encode(sentences)\n",
        "print(\"Sentence Embeddings:\", sentence_embeddings.shape)\n",
        "similarity_metrics = cosine_similarity(sentence_embeddings)\n",
        "print(\"Cosine Similarity Metrics:\", similarity_metrics)\n",
        "sentence_embeddings_16 = sentence_embeddings.astype(np.float16)\n",
        "sim_metrix_16 = cosine_similarity(sentence_embeddings_16)\n",
        "print(\"Cosine Similarity Matrix (float 16): \\n\", sim_metrix_16)"
      ]
    },
    {
      "cell_type": "code",
      "execution_count": 21,
      "metadata": {
        "colab": {
          "base_uri": "https://localhost:8080/"
        },
        "id": "MFLKum8zRS_4",
        "outputId": "026e53bb-378d-407c-f6f6-3c82227ada55"
      },
      "outputs": [
        {
          "name": "stdout",
          "output_type": "stream",
          "text": [
            "Query Sentence: I enjoy artificial Intelligence\n",
            "Neighbor #1: I love Deep learning (Distance : 0.7315)\n",
            "Neighbor #2: Artificial intelligence is the new electricity (Distance : 0.8245)\n",
            "Neighbor #3: Machine learning facinating (Distance : 1.1923)\n"
          ]
        }
      ],
      "source": [
        "d = sentence_embeddings.shape[1]\n",
        "index = faiss.IndexFlatL2(d)\n",
        "\n",
        "if sentence_embeddings.dtype != np.float32:\n",
        "  sentence_embeddings_f32 = sentence_embeddings.astype(np.float32)\n",
        "else:\n",
        "  sentence_embeddings_f32 = sentence_embeddings\n",
        "\n",
        "index.add(sentence_embeddings_f32)\n",
        "\n",
        "query_sentence = \"I enjoy artificial Intelligence\"\n",
        "\n",
        "\n",
        "query_embedding = sentence_model.encode([query_sentence]).astype(np.float32)\n",
        "\n",
        "k = 3\n",
        "distances, indices = index.search(query_embedding, k)\n",
        "\n",
        "print(\"Query Sentence:\", query_sentence)\n",
        "\n",
        "for i,idx in enumerate(indices[0]):\n",
        "  print(f\"Neighbor #{i+1}: {sentences[idx]} (Distance : {distances[0][i]:.4f})\")"
      ]
    },
    {
      "cell_type": "code",
      "execution_count": 22,
      "metadata": {
        "colab": {
          "base_uri": "https://localhost:8080/"
        },
        "id": "EyL-dIq1R1Ib",
        "outputId": "8cc94681-8daf-466d-b40f-4d2ecb5f8b13"
      },
      "outputs": [
        {
          "name": "stdout",
          "output_type": "stream",
          "text": [
            "Simulating a large dataset by replicating embedding...\n",
            "Large Embeddings Shape:, 4000 vectors, each of dimension 384\n"
          ]
        }
      ],
      "source": [
        "import faiss\n",
        "import numpy as np\n",
        "print(\"Simulating a large dataset by replicating embedding...\")\n",
        "large_embeddings =  np.vstack([sentence_embeddings_f32 for _ in range(1000)])\n",
        "print(f\"Large Embeddings Shape:, {large_embeddings.shape[0]} vectors, each of dimension {large_embeddings.shape[1]}\")"
      ]
    },
    {
      "cell_type": "code",
      "execution_count": 23,
      "metadata": {
        "id": "SEGvHlV8R1Ko"
      },
      "outputs": [],
      "source": [
        "num_vectors = large_embeddings.shape[0]\n",
        "d = large_embeddings.shape[1]\n",
        "nlist = 100"
      ]
    },
    {
      "cell_type": "code",
      "execution_count": 24,
      "metadata": {
        "colab": {
          "base_uri": "https://localhost:8080/"
        },
        "id": "ouaYMxxgUGy3",
        "outputId": "8f2befca-96e9-4f6f-a51d-89dc9e8b7160"
      },
      "outputs": [
        {
          "name": "stdout",
          "output_type": "stream",
          "text": [
            "\n",
            "Step 1: Creating the FAISS quantizer\n",
            "Quantizer created using L2 distance metric.\n"
          ]
        }
      ],
      "source": [
        "print(\"\\nStep 1: Creating the FAISS quantizer\")\n",
        "quantizer = faiss.IndexFlatL2(d)\n",
        "print(\"Quantizer created using L2 distance metric.\")"
      ]
    },
    {
      "cell_type": "code",
      "execution_count": 25,
      "metadata": {
        "colab": {
          "base_uri": "https://localhost:8080/"
        },
        "id": "UnH86XP7UG2d",
        "outputId": "a3e70434-5e9a-4dce-b87b-5332894cae97"
      },
      "outputs": [
        {
          "name": "stdout",
          "output_type": "stream",
          "text": [
            "\n",
            "Step 2: Creating the IVF index...\n",
            "IVF index created with 100 clusters.\n"
          ]
        }
      ],
      "source": [
        "print(\"\\nStep 2: Creating the IVF index...\")\n",
        "index_ivf = faiss.IndexIVFFlat(quantizer, d, nlist, faiss.METRIC_L2)\n",
        "print(f\"IVF index created with {nlist} clusters.\")"
      ]
    },
    {
      "cell_type": "code",
      "execution_count": 26,
      "metadata": {
        "colab": {
          "base_uri": "https://localhost:8080/"
        },
        "id": "Q3MNVwFrR1OR",
        "outputId": "4247e993-7f3f-46c9-bfa8-244d9c7a0573"
      },
      "outputs": [
        {
          "name": "stdout",
          "output_type": "stream",
          "text": [
            "\n",
            "Step 3: Training the IVF index with the mebeddings...\n",
            "Training Completed. The index is now ready to accept vectors\n"
          ]
        }
      ],
      "source": [
        "print(\"\\nStep 3: Training the IVF index with the mebeddings...\")\n",
        "index_ivf.train(large_embeddings)\n",
        "print(f\"Training Completed. The index is now ready to accept vectors\")"
      ]
    },
    {
      "cell_type": "code",
      "execution_count": 27,
      "metadata": {
        "colab": {
          "base_uri": "https://localhost:8080/"
        },
        "id": "f9oqLcGtZ5m6",
        "outputId": "adc675b6-8c50-455e-f497-2ea86fd2bef5"
      },
      "outputs": [
        {
          "name": "stdout",
          "output_type": "stream",
          "text": [
            "\n",
            "Step 4: Adding the embeddings to the index...\n",
            "Added 4000 vectors to the index\n"
          ]
        }
      ],
      "source": [
        "print(\"\\nStep 4: Adding the embeddings to the index...\")\n",
        "index_ivf.add(large_embeddings)\n",
        "print(f\"Added {num_vectors} vectors to the index\")\n"
      ]
    },
    {
      "cell_type": "code",
      "execution_count": 28,
      "metadata": {
        "colab": {
          "base_uri": "https://localhost:8080/"
        },
        "id": "GF2iS0aEZ5pg",
        "outputId": "76306cb8-dcef-4ddc-e0ef-386e6a4c258a"
      },
      "outputs": [
        {
          "name": "stdout",
          "output_type": "stream",
          "text": [
            "\n",
            "Query Sentence: Neural networks are powerful.\n"
          ]
        }
      ],
      "source": [
        "query_sentence = \"Neural networks are powerful.\"\n",
        "print(\"\\nQuery Sentence:\", query_sentence)"
      ]
    },
    {
      "cell_type": "code",
      "execution_count": 29,
      "metadata": {
        "colab": {
          "base_uri": "https://localhost:8080/"
        },
        "id": "XAMYz0dqZ5rt",
        "outputId": "6e6d119d-a051-4e6b-87f9-4b1704ac34b5"
      },
      "outputs": [
        {
          "name": "stdout",
          "output_type": "stream",
          "text": [
            "Query Embedding generated with Shape: (1, 384)\n",
            "\n",
            "Searching the index with nprobe= 10\n",
            "\n",
            "Results:\n",
            "Result 1:\n",
            "Index: 2\n",
            "Distance: 0.8887\n",
            "Result 2:\n",
            "Index: 14\n",
            "Distance: 0.8887\n",
            "Result 3:\n",
            "Index: 26\n",
            "Distance: 0.8887\n"
          ]
        }
      ],
      "source": [
        "query_embedding = sentence_model.encode([query_sentence]).astype(np.float32)\n",
        "print(f\"Query Embedding generated with Shape: {query_embedding.shape}\")\n",
        "\n",
        "#Searching in the index\n",
        "index_ivf.nprobe = 10\n",
        "print(\"\\nSearching the index with nprobe=\", index_ivf.nprobe)\n",
        "distance_ivf, indices_ivf = index_ivf.search(query_embedding, k=3)\n",
        "\n",
        "#Print results\n",
        "print(\"\\nResults:\")\n",
        "for i in range(len(indices_ivf[0])):\n",
        "  print(f\"Result {i+1}:\")\n",
        "  print(f\"Index: {indices_ivf[0][i]}\")\n",
        "  print(f\"Distance: {distance_ivf[0][i]:.4f}\")"
      ]
    },
    {
      "cell_type": "code",
      "execution_count": 30,
      "metadata": {
        "colab": {
          "base_uri": "https://localhost:8080/",
          "height": 487
        },
        "id": "WRKeAfY0Z5vT",
        "outputId": "0a727d81-dc80-4955-e360-ce34eb082611"
      },
      "outputs": [
        {
          "data": {
            "image/png": "[encoded data removed]",
            "text/plain": [
              "<Figure size 600x500 with 1 Axes>"
            ]
          },
          "metadata": {},
          "output_type": "display_data"
        }
      ],
      "source": [
        "from sklearn.decomposition import PCA\n",
        "pca = PCA(n_components=2)\n",
        "import matplotlib.pyplot as plt\n",
        "\n",
        "X=sentence_embeddings\n",
        "pca= PCA(n_components=2)\n",
        "X_2d = pca.fit_transform(X)\n",
        "\n",
        "plt.figure(figsize=(6, 5))\n",
        "for i, (x,y) in enumerate(X_2d):\n",
        "  plt.scatter(x, y, color='blue')\n",
        "  plt.text(x+0.01, y+0.01, sentences[i], fontsize=9)\n",
        "\n",
        "plt.title(\"2D PCA Sentence Embeddings\")\n",
        "plt.xlabel(\"Pc1\")\n",
        "plt.ylabel(\"PC2\")\n",
        "plt.show()"
      ]
    }
  ],
  "metadata": {
    "colab": {
      "provenance": []
    },
    "kernelspec": {
      "display_name": "Python 3",
      "name": "python3"
    },
    "language_info": {
      "codemirror_mode": {
        "name": "ipython",
        "version": 3
      },
      "file_extension": ".py",
      "mimetype": "text/x-python",
      "name": "python",
      "nbconvert_exporter": "python",
      "pygments_lexer": "ipython3",
      "version": "3.12.5"
    }
  },
  "nbformat": 4,
  "nbformat_minor": 0
}
